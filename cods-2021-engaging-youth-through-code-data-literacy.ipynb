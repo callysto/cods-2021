{
 "cells": [
  {
   "cell_type": "markdown",
   "id": "congressional-intake",
   "metadata": {
    "slideshow": {
     "slide_type": "slide"
    }
   },
   "source": [
    "![Callysto.ca Banner](https://github.com/callysto/curriculum-notebooks/blob/master/callysto-notebook-banner-top.jpg?raw=true)\n",
    "<h2 align='center'>Engaging youth through community partnerships, code and data literacy</h2>\n",
    "\n",
    "\n",
    "<h4 align='center'>Byron Chu, Cybera</h3>\n",
    "\n",
    "<h4 align='center'>Laura Gutierrez Funderburk, Cybera</h3>\n",
    "\n",
    "<h4 align='center'>Michael Lamoureux, University of Calgary</h3>\n"
   ]
  },
  {
   "cell_type": "markdown",
   "id": "differential-emergency",
   "metadata": {
    "slideshow": {
     "slide_type": "slide"
    }
   },
   "source": [
    "<h2 align='center'>Acknowledgements </h2>\n",
    "\n",
    "We acknowledge the Indigenous Peoples of all the lands that we are on today. From all corners of this country, we acknowledge the ancestral and unceded territory of all the Indigenous people that call this land home. \n",
    "\n",
    "While we meet here today on a virtual platform, we take a moment to acknowledge the importance of reconciliation and collaboration. \n",
    "\n",
    "We do this to reaffirm our commitment and responsibility in improving relationships between nations and to improve our own understanding of local Indigenous peoples and their cultures."
   ]
  },
  {
   "cell_type": "markdown",
   "id": "blessed-blackjack",
   "metadata": {
    "slideshow": {
     "slide_type": "slide"
    }
   },
   "source": [
    "\n",
    "\n",
    "<h2 align='center'> About the Callysto Program</h2>\n",
    "\n",
    "- Provide open educational infrastructure and learning resources\n",
    "- Focus on making computational thinking and data science/literacy available\n",
    "- Use Jupyter notebooks as main platform\n",
    "- Host teacher and student training workshops\n",
    "\n",
    "<h3 align='center'>Brought to you by</h3>\n",
    "\n",
    "| | | |\n",
    "|-|-|-|\n",
    "|<img src=\"./images/Cybera_Logo_RBG_Colour.png\" alt=\"Drawing\" style=\"width: 300px;\"/>|<img src=\"./images/PIMS_Logos_Web_PIMS_Logo_Colour.png\" alt=\"Drawing\" style=\"width: 400px;\"/>| <img src=\"./images/With_Funding_Canada_Wordmark-colour_BIL-EN.png\" alt=\"Drawing\" style=\"width: 400px;\"/>|"
   ]
  },
  {
   "cell_type": "markdown",
   "id": "obvious-floor",
   "metadata": {
    "slideshow": {
     "slide_type": "slide"
    }
   },
   "source": [
    "<h2 align='center'>What is a Jupyter notebook?</h2>\n",
    "\n",
    "A Jupyter notebook is an online document that can include both text and (Python) code in different “cells” or parts of the document.\n",
    "\n",
    "These documents run on Callysto Hub as well as Google Colab, IBM Watson Studio, and other places.\n",
    "\n",
    "\n",
    "This presentation is a Jupyter notebook!"
   ]
  },
  {
   "cell_type": "markdown",
   "id": "electoral-finish",
   "metadata": {
    "slideshow": {
     "slide_type": "slide"
    }
   },
   "source": [
    "<h2 align='center'>Modelling traditional Coast Salish fish traps</h2>\n",
    "\n",
    "The crescent element consists of either a semi- or completely circular stonewall. Crescent elements are located in the high to low intertidal zone. \n",
    "\n",
    "| |\n",
    "|-|\n",
    "|![](./images/crescent.png)|\n",
    "\n",
    "| |\n",
    "|-|\n",
    "|Combes, G., & Welch, J. R. (2012). A Bird's Eye View of Northern Coast Salish Intertidal Resource Management Features, Southern British Columbia, Canada. The Journal of Island and Coastal Archaeology|"
   ]
  },
  {
   "cell_type": "markdown",
   "id": "regulated-montgomery",
   "metadata": {
    "slideshow": {
     "slide_type": "slide"
    }
   },
   "source": [
    "<h2 align='center'>Aerial Simulation</h2>\n",
    "\n",
    "Below is an animation created using [Python code](https://github.com/BryceHaley/Callysto-Fish-Traps/blob/master/Notebooks/scripts/particle_box.py). \n",
    "\n",
    "| |\n",
    "|- |\n",
    "|![](./images/ezgif.com-optimize.gif)|"
   ]
  },
  {
   "cell_type": "markdown",
   "id": "administrative-notice",
   "metadata": {
    "slideshow": {
     "slide_type": "slide"
    }
   },
   "source": [
    "<h1 align='center'>Mini Demo!</h1>\n",
    "\n",
    "We used the Python programming language, Jupyter notebooks and Callysto's Jupyter Hub to create:\n",
    "\n",
    "* Modelling the crescent element: https://tinyurl.com/y37hrspp\n",
    "\n",
    "* Modelling the impact of greedy harvesting on fish populations: https://tinyurl.com/y6cdcw2n\n",
    "\n",
    "* Lesson plans: https://www.callysto.ca/lesson-plans/\n",
    "\n",
    "All free of cost, under creative commons license. Rights to videos reserved in the Jupyter notebooks and lesson plans the by Tla'amin Nation."
   ]
  },
  {
   "cell_type": "markdown",
   "id": "weekly-translator",
   "metadata": {
    "slideshow": {
     "slide_type": "slide"
    }
   },
   "source": [
    "<h1 align='center'>Weekly data visualizations</h1>\n",
    "\n",
    "Our team developed a series of weekly data visualizations, where we explored various open data sets from Canada and the world, and generated interactive visualizations that explore the data. \n",
    "\n",
    "We suplemented the findings with a blog post that guides students through the content and how to interpret the data. \n",
    "\n",
    "Visit our page https://www.callysto.ca/weekly-data-visualization/"
   ]
  },
  {
   "cell_type": "markdown",
   "id": "hydraulic-martial",
   "metadata": {
    "slideshow": {
     "slide_type": "slide"
    }
   },
   "source": [
    "<h1 align='center'>Other resources</h1>\n",
    "\n",
    "\n",
    "We have an online course introducing data science, and how to develop your own Jupyter notebooks that explore open data:\n",
    "\n",
    "1. Online courses https://courses.callysto.ca/\n",
    "\n",
    "2. Our student hackathon https://url.com/student-hackathon "
   ]
  },
  {
   "cell_type": "markdown",
   "id": "related-spiritual",
   "metadata": {
    "slideshow": {
     "slide_type": "slide"
    }
   },
   "source": [
    "<h1 align='center'>Contact us</h1>\n",
    "\n",
    "You can visit our webpage https://www.callysto.ca/\n",
    "\n",
    "Follow us on Twitter https://twitter.com/callysto_canada\n",
    "\n",
    "Follow us on LinkedIn https://ca.linkedin.com/company/callysto-canada\n",
    "\n",
    "Send us an email for inquiries on teacher and student workshops, or to learn more about or modules: contact@callysto.ca\n",
    "\n",
    "![Callysto.ca License](https://github.com/callysto/curriculum-notebooks/blob/master/callysto-notebook-banner-bottom.jpg?raw=true)"
   ]
  }
 ],
 "metadata": {
  "celltoolbar": "Slideshow",
  "kernelspec": {
   "display_name": "Python 3",
   "language": "python",
   "name": "python3"
  },
  "language_info": {
   "codemirror_mode": {
    "name": "ipython",
    "version": 3
   },
   "file_extension": ".py",
   "mimetype": "text/x-python",
   "name": "python",
   "nbconvert_exporter": "python",
   "pygments_lexer": "ipython3",
   "version": "3.8.8"
  },
  "rise": {
   "autolaunch": false,
   "backimage": "Bgnd0.jpg"
  }
 },
 "nbformat": 4,
 "nbformat_minor": 5
}
